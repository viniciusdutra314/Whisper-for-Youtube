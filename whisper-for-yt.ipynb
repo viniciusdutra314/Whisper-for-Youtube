{
 "cells": [
  {
   "attachments": {},
   "cell_type": "markdown",
   "metadata": {},
   "source": [
    "## Click here to import dependencies\n"
   ]
  },
  {
   "cell_type": "code",
   "execution_count": null,
   "metadata": {},
   "outputs": [],
   "source": [
    "!wget -P /boot/ \"https://raw.githubusercontent.com/viniciusdutra314/Whisper-for-all/main/requirements.txt\"\n",
    "!pip install -r /boot/requirements.txt\n",
    "!wget -P /boot/ \"https://raw.githubusercontent.com/viniciusdutra314/Whisper-for-all/main/main.py\"\n",
    "!wget -P /boot/ \"https://raw.githubusercontent.com/viniciusdutra314/Whisper-for-all/main/youtube_downloader.py\"\n",
    "!wget -P /boot/ \"https://raw.githubusercontent.com/viniciusdutra314/Whisper-for-all/main/whisper_requests.py\""
   ]
  },
  {
   "cell_type": "code",
   "execution_count": null,
   "metadata": {},
   "outputs": [],
   "source": [
    "%run /boot/main.py"
   ]
  }
 ],
 "metadata": {
  "language_info": {
   "name": "python"
  },
  "orig_nbformat": 4
 },
 "nbformat": 4,
 "nbformat_minor": 2
}
